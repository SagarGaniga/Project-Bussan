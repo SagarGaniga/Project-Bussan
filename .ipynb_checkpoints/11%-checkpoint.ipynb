{
 "cells": [
  {
   "cell_type": "code",
   "execution_count": 1,
   "metadata": {
    "collapsed": true
   },
   "outputs": [],
   "source": [
    "import numpy as np\n",
    "import pandas as pd"
   ]
  },
  {
   "cell_type": "code",
   "execution_count": 24,
   "metadata": {
    "collapsed": true
   },
   "outputs": [],
   "source": [
    "df_bill = pd.read_csv('bill.csv')\n",
    "# print(df_bill)\n",
    "\n",
    "df_payment = pd.read_csv('payment_11.csv')\n",
    "# print(df_payment[\"Pending\"])"
   ]
  },
  {
   "cell_type": "code",
   "execution_count": 25,
   "metadata": {
    "collapsed": true
   },
   "outputs": [],
   "source": [
    "df_payment[\"Date\"] = pd.to_datetime(df_payment.Date)\n",
    "df_bill[\"Date\"] = pd.to_datetime(df_bill.Date)\n",
    "sorted_payment = df_payment.sort_values('Date')"
   ]
  },
  {
   "cell_type": "code",
   "execution_count": 26,
   "metadata": {},
   "outputs": [
    {
     "ename": "SyntaxError",
     "evalue": "invalid syntax (<ipython-input-26-640d2b7f69a6>, line 23)",
     "output_type": "error",
     "traceback": [
      "\u001b[0;36m  File \u001b[0;32m\"<ipython-input-26-640d2b7f69a6>\"\u001b[0;36m, line \u001b[0;32m23\u001b[0m\n\u001b[0;31m    tds += bill_tds = bill[\"Amount\"] - bill[\"Amount\"]*0.9\u001b[0m\n\u001b[0m                    ^\u001b[0m\n\u001b[0;31mSyntaxError\u001b[0m\u001b[0;31m:\u001b[0m invalid syntax\n"
     ]
    }
   ],
   "source": [
    "payment = 0\n",
    "for index, row in sorted_payment.iterrows():\n",
    "    total_gone = 0\n",
    "    payment = int(row[\"Pending\"])\n",
    "    print(\"Payment of: \",row[\"Pending\"], \"was made on\", row[\"Date\"])\n",
    "    print(\"Total payment including any prev balance:\", payment)\n",
    "    print(\"--------------------------------------\")\n",
    "\n",
    "    bills_before_date = df_bill.loc[(df_bill[\"Date\"] <= row[\"Date\"]) & (df_bill[\"payment_id\"]).isnull()]\n",
    "    \n",
    "    sorted_bill = bills_before_date.sort_values(\"Amount\")\n",
    "#     print(\"************************\")\n",
    "#     print(\"Sorted array with amount and data:\")\n",
    "#     print(sorted_bill)\n",
    "#     print(\"**************************\")\n",
    "    bills = []\n",
    "    tds = 0\n",
    "    for i, bill in sorted_bill.iterrows():\n",
    "        bill_tds = 0\n",
    "        if bill[\"Amount\"]*0.9 <= payment:\n",
    "            print(\"Paid: \", bill[\"Amount\"]*0.9)\n",
    "            \n",
    "            bill_tds = bill[\"Amount\"] - bill[\"Amount\"]*0.9\n",
    "            tds += bill_tds\n",
    "            \n",
    "            \n",
    "            total_gone = total_gone + bill[\"Amount\"]*0.9\n",
    "            \n",
    "            payment = payment - bill[\"Amount\"]*0.9\n",
    "            \n",
    "            bills.append(str(bill[\"bill_id\"]))\n",
    "            \n",
    "            print(\"Bill:\",bill[\"bill_id\"])\n",
    "            \n",
    "            df_bill.set_value(i, \"payment_id\", row[\"payment_id\"])\n",
    "            #df_bill.set_value(i, \"after_tax\", bill[\"Amount\"]*0.9)\n",
    "            \n",
    "        df_bill.set_value(i, \"TDS\", bill_tds)\n",
    "    \n",
    "    bills_string =  \",\".join(bills)\n",
    "    df_payment.set_value(index, \"bill_id\", bills_string)\n",
    "    df_payment.set_value(index, \"residue\", payment if len(bills)>0 else 0)\n",
    "    df_payment.set_value(index, \"TDS\", tds)\n",
    "    print(\"Paid:\", \",\".join(bills))\n",
    "    print(\"---------------------------------------\")\n",
    "    print(\"Total Paid:\", total_gone)\n",
    "    print(\"What was left: \", payment)\n",
    "    print(\"_______________________________________\")"
   ]
  },
  {
   "cell_type": "code",
   "execution_count": 23,
   "metadata": {
    "collapsed": true
   },
   "outputs": [],
   "source": [
    "# print(df_payment)\n",
    "# df_payment.to_csv(\"payment_11.csv\", sep='\\t')\n",
    "writer = pd.ExcelWriter('output_10.xlsx')\n",
    "df_bill.to_excel(writer,'bill')\n",
    "df_payment.to_excel(writer,'payment')\n",
    "writer.save()"
   ]
  },
  {
   "cell_type": "code",
   "execution_count": null,
   "metadata": {
    "collapsed": true
   },
   "outputs": [],
   "source": []
  }
 ],
 "metadata": {
  "kernelspec": {
   "display_name": "Python 3",
   "language": "python",
   "name": "python3"
  },
  "language_info": {
   "codemirror_mode": {
    "name": "ipython",
    "version": 3
   },
   "file_extension": ".py",
   "mimetype": "text/x-python",
   "name": "python",
   "nbconvert_exporter": "python",
   "pygments_lexer": "ipython3",
   "version": "3.6.2"
  }
 },
 "nbformat": 4,
 "nbformat_minor": 2
}
